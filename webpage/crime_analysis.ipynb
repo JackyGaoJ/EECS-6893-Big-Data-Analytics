{
  "cells": [
    {
      "cell_type": "code",
      "execution_count": null,
      "id": "d5947774-a383-487c-b85c-3074d7f63589",
      "metadata": {
        "id": "d5947774-a383-487c-b85c-3074d7f63589"
      },
      "outputs": [],
      "source": [
        "import pandas as pd\n",
        "import numpy as np\n",
        "from matplotlib import pyplot as plt\n",
        "%matplotlib inline\n",
        "import datetime as dt"
      ]
    },
    {
      "cell_type": "code",
      "execution_count": null,
      "id": "254f38de-95bb-4e18-91a9-4381a3a5686d",
      "metadata": {
        "id": "254f38de-95bb-4e18-91a9-4381a3a5686d"
      },
      "outputs": [],
      "source": [
        "def readfile(filepath = './data_processed.csv'):\n",
        "    data = pd.read_csv(filepath)\n",
        "    return data"
      ]
    },
    {
      "cell_type": "code",
      "execution_count": null,
      "id": "d0031907-2339-4a4e-b415-2467662b7243",
      "metadata": {
        "id": "d0031907-2339-4a4e-b415-2467662b7243"
      },
      "outputs": [],
      "source": [
        "def getinfobyzip(zipccode):\n",
        "    data_processed = readfile()\n",
        "    # zipcode = int(input('Enter the zip code you are intend to search:'))\n",
        "    boro_s = data_processed.query(f'ZIPCODE=={zipcode}')['BORO_NM'].index[0]\n",
        "    boro = data_processed.BORO_NM[boro_s]\n",
        "    data_temp = data_processed[data_processed['BORO_NM'].isin([boro])]\n",
        "    data_temp = data_temp.groupby(by='ZIPCODE', as_index=False).count()[['ZIPCODE','CMPLNT_NUM']].rename(columns={'CMPLNT_NUM':'Numbers_complaints'})\n",
        "    data_temp = data_temp.sort_values(by = ['Numbers_complaints'], ascending = False,ignore_index=True)\n",
        "    df1 = data_processed.drop_duplicates(subset='ZIPCODE', keep='first', inplace=False, ignore_index=True)\n",
        "    df1 = df1[['ZIPCODE','POPULATION']]\n",
        "    data_temp = data_temp.merge(df1, how = 'left')\n",
        "    idx = data_temp.loc[data_temp['ZIPCODE'] == zipcode].index[0]\n",
        "    data_temp['crime_rate_5years'] = data_temp.Numbers_complaints.div(data_temp.POPULATION)\n",
        "    data_temp.loc[~np.isfinite(data_temp['crime_rate_5years']), 'crime_rate_5years'] = np.nan \n",
        "    number_complaints = data_temp.Numbers_complaints[idx]\n",
        "    rank = idx + 1\n",
        "    crime_rate = data_temp.crime_rate_5years[idx]\n",
        "    print(f'The total number of crime complaints in last 5 years is {data_temp.Numbers_complaints[idx]}, ranked number {idx+1} in {boro}; The crime complaints numbers normalized by population in last 5 years is {data_temp.crime_rate_5years[idx]}')\n",
        "    data_processed = data_processed[data_processed['ZIPCODE']==zipcode]\n",
        "    data_top10 = data_processed.groupby(by='OFNS_DESC',as_index=False).count()[['OFNS_DESC',\\\n",
        "    'CMPLNT_NUM']].rename(columns={'CMPLNT_NUM':'Numbers_complaints'}).sort_values(by = \\\n",
        "                ['Numbers_complaints'], ignore_index=True,ascending = False)[:10]\n",
        "    print(f'The top 10 crime complaints in zip code {zipcode} are {data_top10.OFNS_DESC.to_list()}.')\n",
        "    return number_complaints,rank,crime_rate,data_top10.OFNS_DESC.to_list()"
      ]
    },
    {
      "cell_type": "code",
      "execution_count": null,
      "id": "3b53a202-fa8c-49f4-95f7-7c4f39ca9fb7",
      "metadata": {
        "id": "3b53a202-fa8c-49f4-95f7-7c4f39ca9fb7",
        "outputId": "953917ae-8f32-4e90-fa8b-0d4f14d2ca2b"
      },
      "outputs": [
        {
          "name": "stdin",
          "output_type": "stream",
          "text": [
            "Enter the zip code you are intend to search: 10010\n"
          ]
        },
        {
          "name": "stdout",
          "output_type": "stream",
          "text": [
            "The total number of crime complaints in last 5 years is  10235, ranked number 26 in MANHATTAN; The crime complaint numbers normalized by population in last 5 years is 0.3425253505572103\n",
            "The top 10 crime complaints in zip code 10010 are ['PETIT LARCENY', 'GRAND LARCENY', 'HARRASSMENT 2', 'ASSAULT 3 & RELATED OFFENSES', 'SEX CRIMES', 'CRIMINAL MISCHIEF & RELATED OF', 'OFF. AGNST PUB ORD SENSBLTY &', 'BURGLARY', 'DANGEROUS WEAPONS', 'ROBBERY'].\n"
          ]
        }
      ],
      "source": [
        "# number_complaints,rank,crime_rate,data_top10 = getinfobyzip()"
      ]
    },
    {
      "cell_type": "markdown",
      "source": [
        "zipcode safetyLevel\n",
        "\n",
        "10025   10\n",
        "\n",
        "10000   1\n",
        "\n",
        "10001   2 "
      ],
      "metadata": {
        "id": "lWFFzwY4EdQm"
      },
      "id": "lWFFzwY4EdQm"
    },
    {
      "cell_type": "markdown",
      "source": [
        ""
      ],
      "metadata": {
        "id": "j2QaacT1EdeG"
      },
      "id": "j2QaacT1EdeG"
    },
    {
      "cell_type": "code",
      "execution_count": null,
      "id": "520322b5-1883-42f0-9a8d-e96bb8c77ef4",
      "metadata": {
        "id": "520322b5-1883-42f0-9a8d-e96bb8c77ef4"
      },
      "outputs": [],
      "source": [
        ""
      ]
    }
  ],
  "metadata": {
    "environment": {
      "kernel": "python3",
      "name": "common-cpu.m84",
      "type": "gcloud",
      "uri": "gcr.io/deeplearning-platform-release/base-cpu:m84"
    },
    "kernelspec": {
      "display_name": "Python 3",
      "language": "python",
      "name": "python3"
    },
    "language_info": {
      "codemirror_mode": {
        "name": "ipython",
        "version": 3
      },
      "file_extension": ".py",
      "mimetype": "text/x-python",
      "name": "python",
      "nbconvert_exporter": "python",
      "pygments_lexer": "ipython3",
      "version": "3.7.12"
    },
    "colab": {
      "name": "crime_analysis.ipynb",
      "provenance": [],
      "collapsed_sections": [],
      "toc_visible": true
    }
  },
  "nbformat": 4,
  "nbformat_minor": 5
}