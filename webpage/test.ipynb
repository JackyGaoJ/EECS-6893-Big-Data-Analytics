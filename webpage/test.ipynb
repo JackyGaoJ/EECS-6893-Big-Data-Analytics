{
 "cells": [
  {
   "cell_type": "code",
   "execution_count": 20,
   "id": "215f3f84",
   "metadata": {},
   "outputs": [],
   "source": [
    "%run PlaceSearch1.ipynb"
   ]
  },
  {
   "cell_type": "code",
   "execution_count": 23,
   "id": "5e3ed5f8",
   "metadata": {},
   "outputs": [
    {
     "name": "stderr",
     "output_type": "stream",
     "text": [
      "1it [00:06,  6.15s/it]\n",
      "Downloading: 100%|███████████████████████████████████████████████████████████████| 239/239 [00:00<00:00, 1153.86rows/s]\n",
      "1it [00:08,  8.91s/it]\n",
      "Downloading: 100%|███████████████████████████████████████████████████████████████| 286/286 [00:00<00:00, 1290.43rows/s]\n",
      "C:\\Users\\JIANGA~1\\AppData\\Local\\Temp/ipykernel_15872/3779214170.py:93: SettingWithCopyWarning: \n",
      "A value is trying to be set on a copy of a slice from a DataFrame.\n",
      "Try using .loc[row_indexer,col_indexer] = value instead\n",
      "\n",
      "See the caveats in the documentation: https://pandas.pydata.org/pandas-docs/stable/user_guide/indexing.html#returning-a-view-versus-a-copy\n",
      "  tmp_play[\"zipcode\"] = [ad.split(\" \")[-1] for ad in tmp_play[\"formatted_address\"]]\n"
     ]
    }
   ],
   "source": [
    "items = [\"restaurant\", \"play\"]\n",
    "requirement = {\n",
    "      \"restaurant\": {\"price\": \"low\", \"rating\":\"high\",\"safety\":\"no_require\"},\n",
    "      \"play\": {\"rating\":\"high\", \"safety\":\"high\"}\n",
    "}\n",
    "output = recommendPlace(requirement, items, \"11101\", 5000, \"2021-12-05\", 3)"
   ]
  },
  {
   "cell_type": "code",
   "execution_count": 40,
   "id": "d92ef36f",
   "metadata": {},
   "outputs": [
    {
     "data": {
      "text/plain": [
       "32"
      ]
     },
     "execution_count": 40,
     "metadata": {},
     "output_type": "execute_result"
    }
   ],
   "source": [
    "max(len(i) for i in output['restaurant']['formatted_address'])"
   ]
  },
  {
   "cell_type": "code",
   "execution_count": 39,
   "id": "2a7aa1c3",
   "metadata": {},
   "outputs": [
    {
     "data": {
      "text/plain": [
       "64     45-30 23rd St, Queens, NY 11101\n",
       "36    27-20 40th Ave, Queens, NY 11101\n",
       "66     2519 40th Ave, Queens, NY 11101\n",
       "Name: formatted_address, dtype: object"
      ]
     },
     "execution_count": 39,
     "metadata": {},
     "output_type": "execute_result"
    }
   ],
   "source": [
    "output['restaurant']['formatted_address']"
   ]
  },
  {
   "cell_type": "code",
   "execution_count": 34,
   "id": "37b72b93",
   "metadata": {},
   "outputs": [
    {
     "name": "stdout",
     "output_type": "stream",
     "text": [
      "<bound method DataFrame.to_string of                     formatted_address                            name  rating  \\\n",
      "123                New York, NY 10018                     Bryant Park    0.94   \n",
      "143  11 W 53rd St, New York, NY 10019        The Museum of Modern Art    0.92   \n",
      "107  1000 5th Ave, New York, NY 10028  The Metropolitan Museum of Art    0.96   \n",
      "\n",
      "     user_ratings_total  safety_level         Z  \n",
      "123            1.000000          0.25 -2.535000  \n",
      "143            0.549799          0.00 -2.204699  \n",
      "107            0.991310          0.50 -2.176965  >\n"
     ]
    }
   ],
   "source": [
    "print(output['play'].to_string)"
   ]
  },
  {
   "cell_type": "code",
   "execution_count": 31,
   "id": "61887eeb",
   "metadata": {},
   "outputs": [
    {
     "name": "stdout",
     "output_type": "stream",
     "text": [
      "Name: Court Square Diner----------address: 45-30 23rd St, Queens, NY 11101\n",
      "Name: John Brown BBQ----------address: 27-20 40th Ave, Queens, NY 11101\n",
      "Name: GoodFellas L.I.C.----------address: 2519 40th Ave, Queens, NY 11101\n",
      "\n"
     ]
    }
   ],
   "source": [
    "res = \"\"\n",
    "for index, row in output['restaurant'].iterrows():\n",
    "    res += \"Name: \" + row['name'] + \"----------\" + 'address: ' + row['formatted_address'] + \"\\n\"\n",
    "print(res)"
   ]
  },
  {
   "cell_type": "code",
   "execution_count": 59,
   "id": "2e54234a",
   "metadata": {},
   "outputs": [],
   "source": [
    "ans = \"Here is what we found \\n\"\n",
    "max_address = max(max(len(i) for i in output['restaurant']['formatted_address']), 7)\n",
    "max_address = max_address if (max_address - 7) %2 ==0 else max_address + 1\n",
    "max_name = max(max(len(i) for i in output['restaurant']['name']), len('restaurant' + \" Name\"))\n",
    "max_name = max_name if (max_name - len('restaurant' + \" Name\")) % 2 == 0 else max_name + 1\n",
    "total_length = max_address + max_name\n",
    "empty_dashes = '-' * (total_length + 3)\n",
    "ans += empty_dashes + \"\\n\"\n",
    "ans += '|' + \" \" * ((max_address - 7) // 2) + 'Address' + \" \" * ((max_address - 7) // 2) + '|' + \" \" * ((max_name - len('restaurant' + \" Name\")) // 2) + 'restaurant' + \" Name\"  + \" \" * ((max_name - len('restaurant' + \" Name\")) // 2) + '|\\n'\n",
    "ans += empty_dashes + \"\\n\"\n",
    "for index, row in output['restaurant'].iterrows():\n",
    "    address = row['formatted_address']\n",
    "    name = row['name']\n",
    "    ans +=  '|' + address + \" \" * (max_address - len(address)) + '|' + name  + \" \" * (max_name - len(name)) + '|\\n'\n",
    "    ans += empty_dashes + \"\\n\""
   ]
  },
  {
   "cell_type": "code",
   "execution_count": 60,
   "id": "9e95b19d",
   "metadata": {},
   "outputs": [
    {
     "name": "stdout",
     "output_type": "stream",
     "text": [
      "Here is what we found \n",
      "-------------------------------------------------------\n",
      "|             Address             |  restaurant Name  |\n",
      "-------------------------------------------------------\n",
      "|45-30 23rd St, Queens, NY 11101  |Court Square Diner |\n",
      "-------------------------------------------------------\n",
      "|27-20 40th Ave, Queens, NY 11101 |John Brown BBQ     |\n",
      "-------------------------------------------------------\n",
      "|2519 40th Ave, Queens, NY 11101  |GoodFellas L.I.C.  |\n",
      "-------------------------------------------------------\n",
      "\n"
     ]
    }
   ],
   "source": [
    "print(ans)"
   ]
  },
  {
   "cell_type": "code",
   "execution_count": null,
   "id": "6107d164",
   "metadata": {},
   "outputs": [],
   "source": []
  }
 ],
 "metadata": {
  "kernelspec": {
   "display_name": "Python 3 (ipykernel)",
   "language": "python",
   "name": "python3"
  },
  "language_info": {
   "codemirror_mode": {
    "name": "ipython",
    "version": 3
   },
   "file_extension": ".py",
   "mimetype": "text/x-python",
   "name": "python",
   "nbconvert_exporter": "python",
   "pygments_lexer": "ipython3",
   "version": "3.8.12"
  }
 },
 "nbformat": 4,
 "nbformat_minor": 5
}
